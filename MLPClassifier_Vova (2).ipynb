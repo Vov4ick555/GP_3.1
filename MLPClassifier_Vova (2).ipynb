{
  "cells": [
    {
      "cell_type": "markdown",
      "metadata": {
        "id": "h_Ye6MU1j0Va"
      },
      "source": [
        "И на конец-то переходим к 5ой завершающей модели это Neural Network(MLP) простейшая нейросеть для классического ML, попробуем что бы потом спокойно перейти к дл.\n",
        "Как она работает, как и все нейронные сети есть скрытые и нескрытые слои. Не скрытый слой принимает на вход данные и делает вывод.\n",
        "Скрытые слои- Один или несколько слоев с нелинейными функциями активации (например, ReLU или tanh)."
      ]
    },
    {
      "cell_type": "code",
      "execution_count": 3,
      "metadata": {
        "id": "9lLprXdqRi16"
      },
      "outputs": [],
      "source": [
        "from sklearn.neural_network import MLPClassifier\n",
        "from sklearn.preprocessing import OneHotEncoder, StandardScaler\n",
        "from sklearn.compose import ColumnTransformer\n",
        "from sklearn.pipeline import Pipeline\n",
        "from sklearn.model_selection import train_test_split, GridSearchCV\n",
        "from sklearn.metrics import accuracy_score, f1_score, precision_score, recall_score, classification_report, confusion_matrix\n",
        "import matplotlib.pyplot as plt\n",
        "import seaborn as sns\n",
        "import numpy as np\n",
        "import pandas as pd\n",
        "import warnings\n",
        "from sklearn.metrics import accuracy_score, f1_score\n",
        "import time\n",
        "warnings.filterwarnings('ignore')\n",
        "import pandas as pd\n",
        "from sklearn.model_selection import train_test_split\n",
        "\n",
        "train = pd.read_csv('train.csv')\n",
        "split_idx = int(0.8 * len(train))\n",
        "test = train.iloc[split_idx:]\n",
        "train = train.iloc[:split_idx]\n",
        "\n",
        "X_train = train.drop('Fertilizer Name', axis=1)\n",
        "y_train = train['Fertilizer Name']\n",
        "\n",
        "X_test = test.drop('Fertilizer Name', axis=1)\n",
        "y_test = test['Fertilizer Name']\n",
        "\n",
        "\n",
        "from sklearn.preprocessing import OneHotEncoder\n",
        "cat_cols = ['Soil Type', 'Crop Type']\n",
        "encoder = OneHotEncoder(handle_unknown='ignore')\n",
        "X_train_encoded = encoder.fit_transform(X_train[cat_cols]).toarray()\n",
        "feature_names = encoder.get_feature_names_out(cat_cols)\n",
        "X_test_encoded = encoder.transform(X_test[cat_cols]).toarray()\n",
        "\n",
        "from sklearn.preprocessing import StandardScaler\n",
        "num_cols = ['Temparature', 'Humidity', 'Moisture', 'Nitrogen', 'Potassium', 'Phosphorous']\n",
        "scaler = StandardScaler()\n",
        "X_train_scaled = scaler.fit_transform(X_train[num_cols])\n",
        "X_test_scaled = scaler.transform(X_test[num_cols])\n",
        "\n",
        "X_train_processed = np.hstack([X_train_scaled, X_train_encoded])\n",
        "X_test_processed = np.hstack([X_test_scaled, X_test_encoded])\n",
        "\n",
        "results = {}"
      ]
    },
    {
      "cell_type": "code",
      "execution_count": 4,
      "metadata": {
        "colab": {
          "base_uri": "https://localhost:8080/"
        },
        "id": "EumwAf3G1qnG",
        "outputId": "e11a4d51-924a-4873-cf44-f6fc7a7008f3"
      },
      "outputs": [
        {
          "output_type": "stream",
          "name": "stdout",
          "text": [
            "\n",
            "Обучение Neural Network (MLP)...\n",
            "Завершено за 61.26 сек. F1: 0.1510\n"
          ]
        }
      ],
      "source": [
        "print(\"\\nОбучение Neural Network (MLP)...\")\n",
        "start_time = time.time()\n",
        "nn = MLPClassifier(hidden_layer_sizes=(100,), max_iter=1000, random_state=42)\n",
        "nn.fit(X_train_processed, y_train)\n",
        "y_pred = nn.predict(X_test_processed)\n",
        "results[\"Neural Network\"] = {\n",
        "    'Accuracy': accuracy_score(y_test, y_pred),\n",
        "    'F1 Score': f1_score(y_test, y_pred, average='weighted')\n",
        "}\n",
        "print(f\"Завершено за {time.time() - start_time:.2f} сек. F1: {results['Neural Network']['F1 Score']:.4f}\")"
      ]
    },
    {
      "cell_type": "markdown",
      "metadata": {
        "id": "Mnf0l5ip9JHH"
      },
      "source": [
        "давайте попробуем подобрать гипер параметры для данной модели как всегда опишем что мы подбираем\n",
        "\n",
        "hidden_layer_sizes-Размеры скрытых слоев\n",
        "\n",
        "activation-функция активатор не стал выбирать между relu и другими практика показывает, что это не имеет смысла\n",
        "\n",
        "alpha-параметры регуляризации\n",
        "\n",
        "learning_rate_init- скорость обучения\n",
        "\n",
        "mlp__batch_size-колво данных в одном заходе\n",
        "\n",
        "Так как наша целеваая переменная -- строки, то пришлось использовать labelencoder, чтобы модель была применима."
      ]
    },
    {
      "cell_type": "code",
      "execution_count": 21,
      "metadata": {
        "colab": {
          "base_uri": "https://localhost:8080/"
        },
        "id": "eU0rWojo_ak7",
        "outputId": "abf29785-bc1f-4f7b-8d13-365949e47d7e"
      },
      "outputs": [
        {
          "output_type": "stream",
          "name": "stdout",
          "text": [
            "\n",
            "Исправленный подбор гиперпараметров с кодированием меток...\n",
            "Fitting 3 folds for each of 15 candidates, totalling 45 fits\n",
            "Завершено за 1796.11 сек.\n",
            "Лучшие параметры: {'mlp__hidden_layer_sizes': (50,), 'mlp__batch_size': 64, 'mlp__alpha': 0.001, 'mlp__activation': 'relu'}\n",
            "Accuracy: 0.1639\n",
            "Precision: 0.1604\n",
            "Recall: 0.1639\n",
            "F1 Score: 0.1456\n"
          ]
        }
      ],
      "source": [
        "from sklearn.neural_network import MLPClassifier\n",
        "from sklearn.model_selection import RandomizedSearchCV\n",
        "from sklearn.pipeline import Pipeline\n",
        "from sklearn.preprocessing import StandardScaler, LabelEncoder\n",
        "from sklearn.metrics import accuracy_score, precision_score, recall_score, f1_score\n",
        "import time\n",
        "import numpy as np\n",
        "\n",
        "print(\"\\nИсправленный подбор гиперпараметров с кодированием меток...\")\n",
        "start_time = time.time()\n",
        "\n",
        "\n",
        "label_encoder = LabelEncoder()\n",
        "y_train_encoded = label_encoder.fit_transform(y_train)\n",
        "y_test_encoded = label_encoder.transform(y_test)\n",
        "\n",
        "if np.isnan(X_train_processed).any() or np.isinf(X_train_processed).any():\n",
        "    X_train_processed = np.nan_to_num(X_train_processed)\n",
        "    X_test_processed = np.nan_to_num(X_test_processed)\n",
        "\n",
        "\n",
        "pipeline = Pipeline([\n",
        "    ('scaler', StandardScaler()),\n",
        "    ('mlp', MLPClassifier(\n",
        "        max_iter=1000,\n",
        "        random_state=42,\n",
        "        early_stopping=True,\n",
        "        n_iter_no_change=10\n",
        "    ))\n",
        "])\n",
        "\n",
        "\n",
        "param_grid = {\n",
        "    'mlp__hidden_layer_sizes': [\n",
        "        (50,),\n",
        "        (75,),\n",
        "        (50, 30),\n",
        "        (70, 50)\n",
        "    ],\n",
        "    'mlp__activation': ['relu', 'tanh'],\n",
        "    'mlp__alpha': [0.001, 0.01],\n",
        "    'mlp__batch_size': [32, 64]\n",
        "}\n",
        "\n",
        "\n",
        "search = RandomizedSearchCV(\n",
        "    pipeline,\n",
        "    param_distributions=param_grid,\n",
        "    n_iter=15,\n",
        "    cv=3,\n",
        "    scoring='f1_weighted',\n",
        "    n_jobs=-1,\n",
        "    random_state=42,\n",
        "    verbose=1\n",
        ")\n",
        "\n",
        "\n",
        "search.fit(X_train_processed, y_train_encoded)\n",
        "\n",
        "\n",
        "best_nn = search.best_estimator_\n",
        "y_pred_encoded = best_nn.predict(X_test_processed)\n",
        "y_pred = label_encoder.inverse_transform(y_pred_encoded)\n",
        "\n",
        "\n",
        "results[\"Neural Network (Tuned)\"] = {\n",
        "    'Accuracy': accuracy_score(y_test, y_pred),\n",
        "    'Precision': precision_score(y_test, y_pred, average='weighted'),\n",
        "    'Recall': recall_score(y_test, y_pred, average='weighted'),\n",
        "    'F1 Score': f1_score(y_test, y_pred, average='weighted'),\n",
        "    'Best Params': search.best_params_\n",
        "}\n",
        "\n",
        "print(f\"Завершено за {time.time() - start_time:.2f} сек.\")\n",
        "print(f\"Лучшие параметры: {search.best_params_}\")\n",
        "print(f\"Accuracy: {results['Neural Network (Tuned)']['Accuracy']:.4f}\")\n",
        "print(f\"Precision: {results['Neural Network (Tuned)']['Precision']:.4f}\")\n",
        "print(f\"Recall: {results['Neural Network (Tuned)']['Recall']:.4f}\")\n",
        "print(f\"F1 Score: {results['Neural Network (Tuned)']['F1 Score']:.4f}\")\n"
      ]
    },
    {
      "cell_type": "markdown",
      "metadata": {
        "id": "ZeCP-3SUUMMZ"
      },
      "source": []
    }
  ],
  "metadata": {
    "accelerator": "TPU",
    "colab": {
      "gpuType": "V28",
      "provenance": []
    },
    "kernelspec": {
      "display_name": "Python 3",
      "name": "python3"
    },
    "language_info": {
      "name": "python"
    }
  },
  "nbformat": 4,
  "nbformat_minor": 0
}