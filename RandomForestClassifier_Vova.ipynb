{
  "nbformat": 4,
  "nbformat_minor": 0,
  "metadata": {
    "colab": {
      "provenance": [],
      "gpuType": "V28"
    },
    "kernelspec": {
      "name": "python3",
      "display_name": "Python 3"
    },
    "language_info": {
      "name": "python"
    },
    "accelerator": "TPU"
  },
  "cells": [
    {
      "cell_type": "markdown",
      "source": [
        "Перейдём к 4ой модели случайному лесу, потихоньку надежда на ML пропадает, как работает берётся куча деревьев решений и через них прогоняются, дале мы принимаем решения либо усредняя либ по выбору большинства"
      ],
      "metadata": {
        "id": "IKNRvthfj4BO"
      }
    },
    {
      "cell_type": "code",
      "execution_count": 9,
      "metadata": {
        "id": "bNAtEOgHRrni"
      },
      "outputs": [],
      "source": [
        "from sklearn.ensemble import RandomForestClassifier\n",
        "from sklearn.preprocessing import OneHotEncoder, StandardScaler\n",
        "from sklearn.compose import ColumnTransformer\n",
        "from sklearn.pipeline import Pipeline\n",
        "from sklearn.model_selection import train_test_split, GridSearchCV\n",
        "from sklearn.metrics import accuracy_score, f1_score, precision_score, recall_score, classification_report, confusion_matrix\n",
        "import matplotlib.pyplot as plt\n",
        "import seaborn as sns\n",
        "import numpy as np\n",
        "import pandas as pd\n",
        "import warnings\n",
        "from sklearn.metrics import accuracy_score, f1_score\n",
        "import time\n",
        "warnings.filterwarnings('ignore')\n",
        "import pandas as pd\n",
        "from sklearn.model_selection import train_test_split\n",
        "\n",
        "train = pd.read_csv('train.csv')\n",
        "split_idx = int(0.8 * len(train))\n",
        "test = train.iloc[split_idx:]\n",
        "train = train.iloc[:split_idx]\n",
        "\n",
        "X_train = train.drop('Fertilizer Name', axis=1)\n",
        "y_train = train['Fertilizer Name']\n",
        "\n",
        "X_test = test.drop('Fertilizer Name', axis=1)\n",
        "y_test = test['Fertilizer Name']\n",
        "\n",
        "\n",
        "from sklearn.preprocessing import OneHotEncoder\n",
        "cat_cols = ['Soil Type', 'Crop Type']\n",
        "encoder = OneHotEncoder(handle_unknown='ignore')\n",
        "X_train_encoded = encoder.fit_transform(X_train[cat_cols]).toarray()\n",
        "feature_names = encoder.get_feature_names_out(cat_cols)\n",
        "X_test_encoded = encoder.transform(X_test[cat_cols]).toarray()\n",
        "\n",
        "from sklearn.preprocessing import StandardScaler\n",
        "num_cols = ['Temparature', 'Humidity', 'Moisture', 'Nitrogen', 'Potassium', 'Phosphorous']\n",
        "scaler = StandardScaler()\n",
        "X_train_scaled = scaler.fit_transform(X_train[num_cols])\n",
        "X_test_scaled = scaler.transform(X_test[num_cols])\n",
        "\n",
        "X_train_processed = np.hstack([X_train_scaled, X_train_encoded])\n",
        "X_test_processed = np.hstack([X_test_scaled, X_test_encoded])\n",
        "\n",
        "results = {}"
      ]
    },
    {
      "cell_type": "code",
      "source": [
        "print(\"\\nОбучение Random Forest...\")\n",
        "start_time = time.time()\n",
        "rf = RandomForestClassifier(n_estimators=100, random_state=42)\n",
        "rf.fit(X_train_processed, y_train)\n",
        "y_pred = rf.predict(X_test_processed)\n",
        "results[\"Random Forest\"] = {\n",
        "    'Accuracy': accuracy_score(y_test, y_pred),\n",
        "    'F1 Score': f1_score(y_test, y_pred, average='weighted')\n",
        "}\n",
        "print(f\"Завершено за {time.time() - start_time:.2f} сек. F1: {results['Random Forest']['F1 Score']:.4f}\")"
      ],
      "metadata": {
        "colab": {
          "base_uri": "https://localhost:8080/"
        },
        "id": "SuQ2VgN5pNhU",
        "outputId": "bce040f0-4acc-4200-8098-a0e43b687990"
      },
      "execution_count": 10,
      "outputs": [
        {
          "output_type": "stream",
          "name": "stdout",
          "text": [
            "\n",
            "Обучение Random Forest...\n",
            "Завершено за 133.48 сек. F1: 0.1632\n"
          ]
        }
      ]
    },
    {
      "cell_type": "markdown",
      "source": [
        "Как мы видим модель обучается не быстро так что применим уже нам знакомый RandomizedSearchCV для ускорения обучения.\n",
        "\n",
        "Обсудим за что ответсвенен каждый гиперпараметр, который мы перебираем\n",
        "\n",
        "n_estimators-Количество деревьев\n",
        "\n",
        "max_depth-Макс. глубина: контроль сложности модели\n",
        "\n",
        "min_samples_split - Мин. образцов для разделения: предотвращение переобучения\n",
        "\n",
        "max_features - Количество признаков для разделения"
      ],
      "metadata": {
        "id": "iMVZF61Yuf_q"
      }
    },
    {
      "cell_type": "code",
      "source": [
        "\n",
        "from sklearn.model_selection import GridSearchCV\n",
        "from sklearn.metrics import accuracy_score, f1_score, precision_score, recall_score\n",
        "import time\n",
        "\n",
        "\n",
        "param_grid = {\n",
        "    'n_estimators': [50, 100, 150],\n",
        "    'max_depth': [10, 20],\n",
        "    'min_samples_split': [2, 5, 10],\n",
        "    'max_features': ['sqrt', 'log2']\n",
        "}\n",
        "\n",
        "\n",
        "start_time = time.time()\n",
        "\n",
        "rf_base = RandomForestClassifier(random_state=42)\n",
        "\n",
        "grid_search = GridSearchCV(\n",
        "    estimator=rf_base,\n",
        "    param_grid=param_grid,\n",
        "    scoring='f1_weighted',\n",
        "    cv=3,\n",
        "    n_jobs=-1\n",
        ")\n",
        "grid_search.fit(X_train_processed, y_train)\n",
        "\n",
        "print(f\"Подбор завершен за {time.time() - start_time:.2f} сек\")\n",
        "print(f\"Лучшие параметры: {grid_search.best_params_}\")\n",
        "\n",
        "best_rf = grid_search.best_estimator_\n",
        "y_pred = best_rf.predict(X_test_processed)\n",
        "\n",
        "results[\"Random Forest (optimized)\"] = {\n",
        "    'Accuracy': accuracy_score(y_test, y_pred),\n",
        "    'Precision': precision_score(y_test, y_pred, average='weighted'),\n",
        "    'Recall': recall_score(y_test, y_pred, average='weighted'),\n",
        "    'F1 Score': f1_score(y_test, y_pred, average='weighted')\n",
        "}\n",
        "\n",
        "for metric, value in results[\"Random Forest (optimized)\"].items():\n",
        "    print(f\"{metric}: {value:.4f}\")"
      ],
      "metadata": {
        "colab": {
          "base_uri": "https://localhost:8080/"
        },
        "id": "OMvcCp2Wtu5p",
        "outputId": "a07483cb-200d-4247-dae6-10998e9c0118"
      },
      "execution_count": 13,
      "outputs": [
        {
          "output_type": "stream",
          "name": "stdout",
          "text": [
            "Подбор завершен за 1294.23 сек\n",
            "Лучшие параметры: {'max_depth': 20, 'max_features': 'sqrt', 'min_samples_split': 10, 'n_estimators': 150}\n",
            "Accuracy: 0.1775\n",
            "Precision: 0.1760\n",
            "Recall: 0.1775\n",
            "F1 Score: 0.1689\n"
          ]
        }
      ]
    }
  ]
}