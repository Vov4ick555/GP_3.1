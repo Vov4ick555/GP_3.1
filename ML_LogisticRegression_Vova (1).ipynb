{
  "nbformat": 4,
  "nbformat_minor": 0,
  "metadata": {
    "colab": {
      "provenance": [],
      "gpuType": "V28"
    },
    "kernelspec": {
      "name": "python3",
      "display_name": "Python 3"
    },
    "language_info": {
      "name": "python"
    },
    "accelerator": "TPU"
  },
  "cells": [
    {
      "cell_type": "markdown",
      "metadata": {
        "id": "f1gL2DEfNRGu"
      },
      "source": [
        "# Современные методы анализа данных и машинного обучения, БИ\n",
        "\n",
        "## НИУ ВШЭ, 2024-25 учебный год"
      ]
    },
    {
      "cell_type": "markdown",
      "metadata": {
        "id": "fdTH3pxXFLxw"
      },
      "source": [
        "## Групповой проект №3. Machine Learning & Deep Learning"
      ]
    },
    {
      "cell_type": "markdown",
      "metadata": {
        "id": "kqVyveO4FLxx"
      },
      "source": [
        "## Общая информация"
      ]
    },
    {
      "cell_type": "markdown",
      "metadata": {
        "id": "2A0wmBWwFLxx"
      },
      "source": [
        "__Дата выдачи:__ 05.06.2025\n",
        "\n",
        "__Защита проекта:__ *to be anounced*"
      ]
    },
    {
      "cell_type": "markdown",
      "metadata": {
        "id": "c3WPv6hp7hNJ"
      },
      "source": [
        "## Формат выполнения"
      ]
    },
    {
      "cell_type": "markdown",
      "metadata": {
        "id": "G119PlyX7hNS"
      },
      "source": [
        "Групповой проект представляет собой творческое инициативное групповое задание, которое выполняется студентами в командах от 3 до 6 человек. В то же время, следует помнить, что чем больше в команде людей, тем выше предъявляются требования в целом к команде, а также к выполняему ею проекту. Команды разрешается формировать из студентов разных групп.\n",
        "\n",
        "При оценивании результатов выполнения проекта командой, в обязательном порядке проверяется и учитывается в оценке вклад ***каждого участника*** в общую работу команды. Вследствие этого, крайне важно ответственно подойти к выбору сокомандников, распределению обязанностей внутри команды, а также пресечению наличия \"мертвых душ\" в команде.\n",
        "\n",
        "При необходимости, команда большинством голосов имеет право исключить человека из команды *до защиты проекта*, сообщив об этом преподавателю, в случае если такой человек никак не проявлялся в ходе выполнения проекта и являлся как раз таки той самой \"мертвой душой\". Помните про эту возможность, поскольку наличие \"мертвых душ\" может негативно повлиять на качество и оценку для всего проекта и, как следствие, в целом для всей команды!\n",
        "\n",
        "Запись составов команд осуществляется по ссылке в таблице:\n",
        "\n",
        "https://docs.google.com/spreadsheets/d/1e5tG_b0RAFBmvF_D3sJrqN8Pno6C4lXw-KgIT0cwC6g/edit?usp=sharing"
      ]
    },
    {
      "cell_type": "markdown",
      "metadata": {
        "id": "qK8Ari9eFLxz"
      },
      "source": [
        "## Оценивание и штрафы\n",
        "\n"
      ]
    },
    {
      "cell_type": "markdown",
      "source": [
        "Групповой проект оценивается исходя из устной защиты (презентации) командой выполненного ими проекта перед комиссией. Комиссия составляется из преподавателей курса, ассистентов курса, а также приглашенных экспертов из индустрии.\n",
        "\n",
        "В рамках каждой защиты комиссия выставляет два типа оценок.\n",
        "\n",
        "Первая оценка — это оценка для всего проекта в целом. Она ставится комиссией, исходя из глубины проработки командой предметной области, сложности применяемых в проекте инструментов, а также прочих аспектов, связанных с содержанием выполняемого в проекте ТЗ. При выставлении этой оценки комиссия ориентируется на критерии, более подробно представленные ниже в разделе \"Критерии оценки проекта\".\n",
        "\n",
        "Вторая оценка — это индивидуальная оценка каждого участника команды. Именно эта оценка выставляется впоследствии в ведомость. Индивидуальная оценка участника команды определяется комиссией, исходя из того, насколько участник ориентируется в выполненном командой проекте, как он отвечает на адресованные персонально ему вопросы комиссии, насколько в принципе прослеживается его роль в проекте, а также исходя из других аспектов, связанных с участием конкретного человека в деятельности команды. Индивидуальная оценка не может превосходить оценку команды за проект в целом (первую оценку), однако, в случае когда участник спокойно и корректно отвечает на все адресованные ему вопросы, свободно ориентируется в материале и содержании выполненного проекта, а также когда его роль в работе команды не вызывает сомнений, — в таком случае, индивидуальная оценка участника становится равной оценке для всего проекта (т.е. в идеальном случае — вторая оценка равна первой оценке). Кроме того, в исключительных случаях, при демонстрации участником на защите превосходящих ожидания уровней понимания, участия и вовлечения в рамках проекта, комиссия может своим решением повысить индивидуальную оценку для этого участника на 0,5 или 1 балл относительно общей оценки за проект (первой оценки).\n",
        "\n",
        "Во избежание субъективности и/или предвзятости оценки тех или иных членов комиссии в отношении тех или иных команд, а также каких-либо иных проявлений неравных условий — распределение команд между комиссиями осуществляется абсолютно рандомно с использованием средств библиотеки Numpy :)) — в качестве рэндом сида выступает дата, в которую производится распределение, например, `np.random.seed(5062025)`.\n",
        "\n",
        "Обратите, пожалуйста, внимание на то, что бОльшая часть комиссий осуществляет приём проектов в очной форме, однако могут присутствовать и 1-2 комиссии, которые будут работать дистанционно с использованием средств видеосвязи. В случае попадания команды путем случайного распределения в комиссию, работающую в очной форме, *не допускается* какое-либо изменение формата проведения для команды на онлайн-режим, равно как и любые другие перемещения команд между комиссиями (смены комиссий), для сохранения честности и непредвзятости случайного распределения.\n",
        "\n",
        "Явка студента на защиту проекта является обязательной; вклад студента без его присутствия не оценивается и автоматически является равным нулю. Для дистанционных комиссий, дополнительным требованием является обязательное наличие включенной камеры в течение всего времени нахождения в конференции."
      ],
      "metadata": {
        "id": "QGLPrtP8M51y"
      }
    },
    {
      "cell_type": "markdown",
      "metadata": {
        "id": "TvfNauikHYfv"
      },
      "source": [
        "## Описание задания"
      ]
    },
    {
      "cell_type": "markdown",
      "metadata": {
        "id": "JYeFv80TV21w"
      },
      "source": [
        "В современной бизнес-индустрии использование машинного обучения и искусственного интеллекта приобретает критическое значение. Компании, стремящиеся оставаться конкурентоспособными, активно внедряют данные технологии для анализа данных, автоматизации процессов и прогнозирования тенденций. Это позволяет бизнесу в целом принимать более обоснованные решения, а также стараться оперативно реагировать на изменения рынка.\n",
        "\n",
        "В данном проекте вы на реальных данных попрактикуетесь в том, как осуществляется построение предсказательных моделей машинного и глубинного обучения, как впоследствии эти модели применяются, а также в том, как происходит поиск скрытых закономерностей и полезных инсайтов, которые в дальнейшем помогают компаниям оптимизировать свои бизнес-процессы.\n",
        "\n"
      ]
    },
    {
      "cell_type": "markdown",
      "source": [
        "### Этапы проекта"
      ],
      "metadata": {
        "id": "jw2I5j46xsrG"
      }
    },
    {
      "cell_type": "markdown",
      "source": [
        "Ниже вашему вниманию предлагаются примерные этапы реализации проекта:\n",
        "\n",
        "- Выбор компании и/или платформы;\n",
        "- Формулировка двух бизнес-задач, которые могла бы хотеть решить компания/платформа, на основе данных, используя современные методы классического и глубинного машинного обучения соответственно;\n",
        "- Обоснование сформулированных бизнес-задач;\n",
        "- Получение необходимых данных путём поиска открытых источников/датасетов, парсинга/работы с API;\n",
        "- Формулировка задач в терминах машинного обучения, для решения поставленных бизнес-задач;\n",
        "- Выбор и обоснование возможного пула методов и алгоритмов для решения сформулированных задач машинного обучения;\n",
        "- Первичная обработка данных;\n",
        "- Применение методов машинного обучения для решения поставленных задач;\n",
        "- Получение и агрегация результатов, финальные выводы."
      ],
      "metadata": {
        "id": "kO_bjLfWxvdV"
      }
    },
    {
      "cell_type": "markdown",
      "source": [
        "### Требования к проекту"
      ],
      "metadata": {
        "id": "Yf_5kM7K6XPn"
      }
    },
    {
      "cell_type": "markdown",
      "metadata": {
        "id": "coqxjUJY4D4B"
      },
      "source": [
        "\n",
        "\n",
        "В качестве результата выполнения группового проекта ваша команда должна получить презентацию и защитить ее перед комиссией.\n",
        "\n",
        "Оформление презентации остаётся полностью на ваше усмотрение, но помните, что результат должен быть релевантен для демонстрации бизнес-заказчику — комиссию, принимающую вашу работу, правильнее всего воспринимать именно в таком качестве. Например, вставлять в презентацию строчки кода или злоупотреблять скринами блокнота не рекомендуется.\n",
        "\n",
        "С точки зрения концепции выполнения проекта — вам необходимо принять на себя роль дата-инженеров: продумать идеологию получения и извлечения данных с платформы; дата-аналитиков: соотнести бизнес-задачу с формулировками на языке данных; и главное, безусловно, — дата-саентистов: реализовать поставленные задачи с помощью методов машинного и глубинного обучения и извлечь полезные инсайты из проделанной работы. А в конце, конечно, — презентовать всю эту красоту в понятном виде потенциальному заказчику.\n",
        "\n",
        "Разумеется, чем сложнее и чем нетривиальнее будет ваша задача, а также чем глубже и чем осмысленнее будут выводы, извлечённые в рамках этой задачи, — тем выше окажется качество вашего проекта и тем выше он будет оценён!\n"
      ]
    },
    {
      "cell_type": "markdown",
      "source": [
        "### Полезные замечания и советы"
      ],
      "metadata": {
        "id": "BIMqig8J-cWl"
      }
    },
    {
      "cell_type": "markdown",
      "source": [
        "- Графики и визуализации — это очень хорошо — все любят графики\n",
        "- Следите за тем, чтобы все графики на слайдах можно было прочитать даже без ваших комментариев\n",
        "- Не нужно делать просто текстовые слайды\n",
        "- Стройте свой проект, исходя из того, что ваша цель представить полезную информацию для бизнеса\n",
        "- Любой хороший Data Scientist должен уметь работать в команде, поэтому распределение ваших усилий в проекте остается за вами\n"
      ],
      "metadata": {
        "id": "myYUHrtD-gcj"
      }
    },
    {
      "cell_type": "markdown",
      "source": [
        "## Критерии оценки проекта"
      ],
      "metadata": {
        "id": "nUgPW81IAl8k"
      }
    },
    {
      "cell_type": "markdown",
      "source": [
        "Оценка за групповой проект в целом — то есть первая из двух оценок — выставляется по 10 балльной шкале, исходя из 4 критериев. Также комиссия на своё усмотрение может добавить (но не снизить) некоторое количество бонусных баллов за рамками данных критериев.\n",
        "\n",
        "Каждый из критериев будет перечислен и рассмотрен ниже."
      ],
      "metadata": {
        "id": "kPjYuWD_BX7C"
      }
    },
    {
      "cell_type": "markdown",
      "source": [
        "### Критерий 1. Выбор задач (до 3 баллов)\n",
        "\n",
        "Данный критерий оценивает, насколько обоснованными и осмысленными получились две решаемых в проекте бизнес-задачи; насколько полно был осуществлен переход от бизнес-задач к задачам машинного обучения (насколько в реальности постановка задач машинного обучения соответствует исходной постановке задачи с точки зрения интересов компании); а также насколько корректными, объёмными и прикладными для бизнеса получились выявленные в ходе исследования инсайты."
      ],
      "metadata": {
        "id": "lGGI5KRrCL5r"
      }
    },
    {
      "cell_type": "markdown",
      "source": [
        "### Критерий 2. Инструменты извлечения и обработки данных (до 1,5 баллов)\n",
        "\n",
        "Данный критерий оценивает техническую реализацию процесса сбора данных ручным и автоматизированным образом, использованные средства предобработки, подготовки данных и EDA. В рамках этого критерия будет рассматриваться спектр различных технических инструментов, внедрённых в проект; корректность, эффективность и правильность их применения; а также сложность и новизна алгоритмов, подходов и библиотек, применяемых к данным."
      ],
      "metadata": {
        "id": "GzH0e3v6DIsM"
      }
    },
    {
      "cell_type": "markdown",
      "source": [
        "### Критерий 3. Инструменты классического машинного обучения (до 2,5 баллов)\n",
        "\n",
        "Данный критерий оценивает применение методов классического машинного обучения в проекте. В рамках этого критерия будет рассматриваться спектр различных технических инструментов, внедрённых в проект; корректность, эффективность и правильность их применения; а также сложность и новизна алгоритмов, подходов и библиотек, применяемых к данным. Кроме того, будет оценен сравнительный анализ моделей, использованных в решении.\n",
        "\n",
        "*По данному критерию можно получить **2 балла** только при условии осуществления сравнительного анализа эффективности различных моделей машинного обучения внутри вашего проекта на одних и тех же данных. Самих моделей машинного обучения должно быть не менее 5; их природа должна отличаться (например, деревья и случайный лес — это алгоритмы разной природы, а вот модели CatBoost и LightGBM — нет); их использование, как и настройка гиперпараметров, должны быть подробно описаны и обоснованы; также, как минимум одна модель должна представлять собой нейронную сеть (для решения задачи классического машинного обучения). Кроме того, в рамках сравнительного анализа должны быть получены и сформулированы явные, значимые выводы о сравнительной эффективности того или иного алгоритма.*\n",
        "\n",
        "*По данному критерию можно получить **1 балл** только при условии использования в проекте, помимо моделей машинного обучения, минимум двух объектов Transformer различной природы (Scaler'ы, алгоритмы снижения размерностей и прочее).*"
      ],
      "metadata": {
        "id": "dObOtg3QE9WD"
      }
    },
    {
      "cell_type": "markdown",
      "source": [
        "### Критерий 4. Инструменты глубинного обучения (до 3 баллов)\n",
        "\n",
        "Данный критерий оценивает применение методов глубинного обучения в проекте. В рамках этого критерия будет рассматриваться спектр различных технических инструментов, внедрённых в проект; корректность, эффективность и правильность их применения; а также сложность и новизна алгоритмов, подходов и библиотек, применяемых к данным. Кроме того, будет оценен сравнительный анализ архитектур нейронных сетей, использованных в решении.\n",
        "\n",
        "*Максимальный балл по данному критерию (**3 балла**) можно получить только при условии корректного и обоснованного применения инструментов/подходов/библиотек, не рассматривавшихся в рамках соответствующих лекций и семинаров.*\n",
        "\n",
        "*По данному критерию можно получить **2 балла** только при условии осуществления сравнительного анализа эффективности различных архитектур нейронных сетей внутри вашего проекта на одних и тех же данных. Самих архитектур должно быть не менее 3; они должны значимо и осмысленно друг от друга отличаться; их использование, как и настройка гиперпараметров, должны быть подробно описаны и обоснованы. Кроме того, в рамках сравнительного анализа должны быть получены и сформулированы явные, значимые выводы о сравнительной эффективности той или иной архитектуры.*\n",
        "\n",
        "*По данному критерию можно получить **отличное от нуля количество баллов** только при условии использования в проекте сверточных нейронных сетей, рекуррентных нейронных сетей или же более сложных архитектур глубоких нейронных сетей.*"
      ],
      "metadata": {
        "id": "J-q2g63YdW2S"
      }
    },
    {
      "cell_type": "code",
      "source": [
        "import numpy as np\n",
        "import pandas as pd\n",
        "import matplotlib.pyplot as plt\n",
        "import seaborn as sns"
      ],
      "metadata": {
        "id": "hCy88UuUgVC9"
      },
      "execution_count": null,
      "outputs": []
    },
    {
      "cell_type": "markdown",
      "source": [
        "Для ML я выбрал такие модели, как\n",
        "\n",
        "1)LogisticRegression (Логистическая регрессия): Линейная модель. База для сравнения. Простая, интерпретируемая. Природа: Линейные модели.\n",
        "\n",
        "2)KNeighborsClassifier (K-Ближайших Соседей - KNN): Основан на расстоянии между точками. Чувствителен к масштабированию. Природа: Методы на основе экземпляров.\n",
        "\n",
        "3)DecisionTreeClassifier (Решающее дерево): Нелинейная модель. Интерпретируема. Склонна к переобучению. Природа: Древовидные модели.\n",
        "\n",
        "4)RandomForestClassifier (Случайный лес): Ансамбль многих деревьев. Мощный, устойчив к переобучению (по сравнению с одним деревом). Природа: Ансамбли на основе бэггинга (Bagging).\n",
        "\n",
        "5)MLPClassifier (Многослойный перцептрон - нейронная сеть): Обязательно! Простейшая нейросеть для классического ML. Природа: Нейронные сети.\n",
        "\n",
        "И обучил их в отдельных ноутбуках(для экономии ресурсов системы), о каждой можели мы поговорим отдельно в каждом из них, в данном ноутбуке у нас будет находится, первая модель логистическая регресия без неё мы не могли обойтись потому что это база для сравнения. Как она работает в задаче классификации- это как \"взвешенное голосование\" признаков. Каждый признак \"голосует\" за класс разные классы, и \"сила его голоса\" определяется величиной коэффициента. Модель суммирует все \"голоса\" чтобы получить вероятность. И мы выбираем класс у которого вероятность больше."
      ],
      "metadata": {
        "id": "bqMQHOmoUSJb"
      }
    },
    {
      "cell_type": "markdown",
      "source": [
        "От слов к делу загрузим необходимые библиотеки"
      ],
      "metadata": {
        "id": "KEnNNZ1kcW-c"
      }
    },
    {
      "cell_type": "code",
      "source": [
        "from sklearn.linear_model import LogisticRegression\n",
        "from sklearn.preprocessing import OneHotEncoder, StandardScaler\n",
        "from sklearn.compose import ColumnTransformer\n",
        "from sklearn.pipeline import Pipeline\n",
        "from sklearn.model_selection import train_test_split, GridSearchCV\n",
        "from sklearn.metrics import accuracy_score, f1_score, precision_score, recall_score, classification_report, confusion_matrix\n",
        "import matplotlib.pyplot as plt\n",
        "import seaborn as sns\n",
        "import numpy as np\n",
        "import pandas as pd\n",
        "import warnings\n",
        "from sklearn.metrics import accuracy_score, f1_score\n",
        "import time\n",
        "warnings.filterwarnings('ignore')"
      ],
      "metadata": {
        "id": "t-_l7d76kLo1"
      },
      "execution_count": 2,
      "outputs": []
    },
    {
      "cell_type": "markdown",
      "source": [
        "После чего можно подгрузить данные, и разделить их на тренировочную выборку и тестовую, в пропорции 80% к 20%(так мы будем делать в каждом ноутбуке), плюс ознакомимся с данными"
      ],
      "metadata": {
        "id": "hlaehKS0Wtvm"
      }
    },
    {
      "cell_type": "code",
      "source": [
        "import pandas as pd\n",
        "from sklearn.model_selection import train_test_split\n",
        "\n",
        "train = pd.read_csv('train.csv')\n",
        "split_idx = int(0.8 * len(train))\n",
        "test = train.iloc[split_idx:]\n",
        "train = train.iloc[:split_idx]\n",
        "\n",
        "print(train.shape)\n",
        "print(test.shape)\n",
        "print(\"Первые 5 строк train:\")\n",
        "display(train.head())\n"
      ],
      "metadata": {
        "colab": {
          "base_uri": "https://localhost:8080/",
          "height": 258
        },
        "id": "dj2mJns-fn_r",
        "outputId": "82bfb4ea-2a8c-47e0-dc44-7aa3df0686f4"
      },
      "execution_count": 4,
      "outputs": [
        {
          "output_type": "stream",
          "name": "stdout",
          "text": [
            "(433377, 10)\n",
            "(108345, 10)\n",
            "Первые 5 строк train:\n"
          ]
        },
        {
          "output_type": "display_data",
          "data": {
            "text/plain": [
              "   id  Temparature  Humidity  Moisture Soil Type  Crop Type  Nitrogen  \\\n",
              "0   0           37        70        36    Clayey  Sugarcane        36   \n",
              "1   1           27        69        65     Sandy    Millets        30   \n",
              "2   2           29        63        32     Sandy    Millets        24   \n",
              "3   3           35        62        54     Sandy     Barley        39   \n",
              "4   4           35        58        43       Red      Paddy        37   \n",
              "\n",
              "   Potassium  Phosphorous Fertilizer Name  \n",
              "0          4            5           28-28  \n",
              "1          6           18           28-28  \n",
              "2         12           16        17-17-17  \n",
              "3         12            4        10-26-26  \n",
              "4          2           16             DAP  "
            ],
            "text/html": [
              "\n",
              "  <div id=\"df-5db891ee-6782-443d-b4d4-6c668490b091\" class=\"colab-df-container\">\n",
              "    <div>\n",
              "<style scoped>\n",
              "    .dataframe tbody tr th:only-of-type {\n",
              "        vertical-align: middle;\n",
              "    }\n",
              "\n",
              "    .dataframe tbody tr th {\n",
              "        vertical-align: top;\n",
              "    }\n",
              "\n",
              "    .dataframe thead th {\n",
              "        text-align: right;\n",
              "    }\n",
              "</style>\n",
              "<table border=\"1\" class=\"dataframe\">\n",
              "  <thead>\n",
              "    <tr style=\"text-align: right;\">\n",
              "      <th></th>\n",
              "      <th>id</th>\n",
              "      <th>Temparature</th>\n",
              "      <th>Humidity</th>\n",
              "      <th>Moisture</th>\n",
              "      <th>Soil Type</th>\n",
              "      <th>Crop Type</th>\n",
              "      <th>Nitrogen</th>\n",
              "      <th>Potassium</th>\n",
              "      <th>Phosphorous</th>\n",
              "      <th>Fertilizer Name</th>\n",
              "    </tr>\n",
              "  </thead>\n",
              "  <tbody>\n",
              "    <tr>\n",
              "      <th>0</th>\n",
              "      <td>0</td>\n",
              "      <td>37</td>\n",
              "      <td>70</td>\n",
              "      <td>36</td>\n",
              "      <td>Clayey</td>\n",
              "      <td>Sugarcane</td>\n",
              "      <td>36</td>\n",
              "      <td>4</td>\n",
              "      <td>5</td>\n",
              "      <td>28-28</td>\n",
              "    </tr>\n",
              "    <tr>\n",
              "      <th>1</th>\n",
              "      <td>1</td>\n",
              "      <td>27</td>\n",
              "      <td>69</td>\n",
              "      <td>65</td>\n",
              "      <td>Sandy</td>\n",
              "      <td>Millets</td>\n",
              "      <td>30</td>\n",
              "      <td>6</td>\n",
              "      <td>18</td>\n",
              "      <td>28-28</td>\n",
              "    </tr>\n",
              "    <tr>\n",
              "      <th>2</th>\n",
              "      <td>2</td>\n",
              "      <td>29</td>\n",
              "      <td>63</td>\n",
              "      <td>32</td>\n",
              "      <td>Sandy</td>\n",
              "      <td>Millets</td>\n",
              "      <td>24</td>\n",
              "      <td>12</td>\n",
              "      <td>16</td>\n",
              "      <td>17-17-17</td>\n",
              "    </tr>\n",
              "    <tr>\n",
              "      <th>3</th>\n",
              "      <td>3</td>\n",
              "      <td>35</td>\n",
              "      <td>62</td>\n",
              "      <td>54</td>\n",
              "      <td>Sandy</td>\n",
              "      <td>Barley</td>\n",
              "      <td>39</td>\n",
              "      <td>12</td>\n",
              "      <td>4</td>\n",
              "      <td>10-26-26</td>\n",
              "    </tr>\n",
              "    <tr>\n",
              "      <th>4</th>\n",
              "      <td>4</td>\n",
              "      <td>35</td>\n",
              "      <td>58</td>\n",
              "      <td>43</td>\n",
              "      <td>Red</td>\n",
              "      <td>Paddy</td>\n",
              "      <td>37</td>\n",
              "      <td>2</td>\n",
              "      <td>16</td>\n",
              "      <td>DAP</td>\n",
              "    </tr>\n",
              "  </tbody>\n",
              "</table>\n",
              "</div>\n",
              "    <div class=\"colab-df-buttons\">\n",
              "\n",
              "  <div class=\"colab-df-container\">\n",
              "    <button class=\"colab-df-convert\" onclick=\"convertToInteractive('df-5db891ee-6782-443d-b4d4-6c668490b091')\"\n",
              "            title=\"Convert this dataframe to an interactive table.\"\n",
              "            style=\"display:none;\">\n",
              "\n",
              "  <svg xmlns=\"http://www.w3.org/2000/svg\" height=\"24px\" viewBox=\"0 -960 960 960\">\n",
              "    <path d=\"M120-120v-720h720v720H120Zm60-500h600v-160H180v160Zm220 220h160v-160H400v160Zm0 220h160v-160H400v160ZM180-400h160v-160H180v160Zm440 0h160v-160H620v160ZM180-180h160v-160H180v160Zm440 0h160v-160H620v160Z\"/>\n",
              "  </svg>\n",
              "    </button>\n",
              "\n",
              "  <style>\n",
              "    .colab-df-container {\n",
              "      display:flex;\n",
              "      gap: 12px;\n",
              "    }\n",
              "\n",
              "    .colab-df-convert {\n",
              "      background-color: #E8F0FE;\n",
              "      border: none;\n",
              "      border-radius: 50%;\n",
              "      cursor: pointer;\n",
              "      display: none;\n",
              "      fill: #1967D2;\n",
              "      height: 32px;\n",
              "      padding: 0 0 0 0;\n",
              "      width: 32px;\n",
              "    }\n",
              "\n",
              "    .colab-df-convert:hover {\n",
              "      background-color: #E2EBFA;\n",
              "      box-shadow: 0px 1px 2px rgba(60, 64, 67, 0.3), 0px 1px 3px 1px rgba(60, 64, 67, 0.15);\n",
              "      fill: #174EA6;\n",
              "    }\n",
              "\n",
              "    .colab-df-buttons div {\n",
              "      margin-bottom: 4px;\n",
              "    }\n",
              "\n",
              "    [theme=dark] .colab-df-convert {\n",
              "      background-color: #3B4455;\n",
              "      fill: #D2E3FC;\n",
              "    }\n",
              "\n",
              "    [theme=dark] .colab-df-convert:hover {\n",
              "      background-color: #434B5C;\n",
              "      box-shadow: 0px 1px 3px 1px rgba(0, 0, 0, 0.15);\n",
              "      filter: drop-shadow(0px 1px 2px rgba(0, 0, 0, 0.3));\n",
              "      fill: #FFFFFF;\n",
              "    }\n",
              "  </style>\n",
              "\n",
              "    <script>\n",
              "      const buttonEl =\n",
              "        document.querySelector('#df-5db891ee-6782-443d-b4d4-6c668490b091 button.colab-df-convert');\n",
              "      buttonEl.style.display =\n",
              "        google.colab.kernel.accessAllowed ? 'block' : 'none';\n",
              "\n",
              "      async function convertToInteractive(key) {\n",
              "        const element = document.querySelector('#df-5db891ee-6782-443d-b4d4-6c668490b091');\n",
              "        const dataTable =\n",
              "          await google.colab.kernel.invokeFunction('convertToInteractive',\n",
              "                                                    [key], {});\n",
              "        if (!dataTable) return;\n",
              "\n",
              "        const docLinkHtml = 'Like what you see? Visit the ' +\n",
              "          '<a target=\"_blank\" href=https://colab.research.google.com/notebooks/data_table.ipynb>data table notebook</a>'\n",
              "          + ' to learn more about interactive tables.';\n",
              "        element.innerHTML = '';\n",
              "        dataTable['output_type'] = 'display_data';\n",
              "        await google.colab.output.renderOutput(dataTable, element);\n",
              "        const docLink = document.createElement('div');\n",
              "        docLink.innerHTML = docLinkHtml;\n",
              "        element.appendChild(docLink);\n",
              "      }\n",
              "    </script>\n",
              "  </div>\n",
              "\n",
              "\n",
              "    <div id=\"df-11d91ec7-d208-4bfa-9ede-02d0a2adcf34\">\n",
              "      <button class=\"colab-df-quickchart\" onclick=\"quickchart('df-11d91ec7-d208-4bfa-9ede-02d0a2adcf34')\"\n",
              "                title=\"Suggest charts\"\n",
              "                style=\"display:none;\">\n",
              "\n",
              "<svg xmlns=\"http://www.w3.org/2000/svg\" height=\"24px\"viewBox=\"0 0 24 24\"\n",
              "     width=\"24px\">\n",
              "    <g>\n",
              "        <path d=\"M19 3H5c-1.1 0-2 .9-2 2v14c0 1.1.9 2 2 2h14c1.1 0 2-.9 2-2V5c0-1.1-.9-2-2-2zM9 17H7v-7h2v7zm4 0h-2V7h2v10zm4 0h-2v-4h2v4z\"/>\n",
              "    </g>\n",
              "</svg>\n",
              "      </button>\n",
              "\n",
              "<style>\n",
              "  .colab-df-quickchart {\n",
              "      --bg-color: #E8F0FE;\n",
              "      --fill-color: #1967D2;\n",
              "      --hover-bg-color: #E2EBFA;\n",
              "      --hover-fill-color: #174EA6;\n",
              "      --disabled-fill-color: #AAA;\n",
              "      --disabled-bg-color: #DDD;\n",
              "  }\n",
              "\n",
              "  [theme=dark] .colab-df-quickchart {\n",
              "      --bg-color: #3B4455;\n",
              "      --fill-color: #D2E3FC;\n",
              "      --hover-bg-color: #434B5C;\n",
              "      --hover-fill-color: #FFFFFF;\n",
              "      --disabled-bg-color: #3B4455;\n",
              "      --disabled-fill-color: #666;\n",
              "  }\n",
              "\n",
              "  .colab-df-quickchart {\n",
              "    background-color: var(--bg-color);\n",
              "    border: none;\n",
              "    border-radius: 50%;\n",
              "    cursor: pointer;\n",
              "    display: none;\n",
              "    fill: var(--fill-color);\n",
              "    height: 32px;\n",
              "    padding: 0;\n",
              "    width: 32px;\n",
              "  }\n",
              "\n",
              "  .colab-df-quickchart:hover {\n",
              "    background-color: var(--hover-bg-color);\n",
              "    box-shadow: 0 1px 2px rgba(60, 64, 67, 0.3), 0 1px 3px 1px rgba(60, 64, 67, 0.15);\n",
              "    fill: var(--button-hover-fill-color);\n",
              "  }\n",
              "\n",
              "  .colab-df-quickchart-complete:disabled,\n",
              "  .colab-df-quickchart-complete:disabled:hover {\n",
              "    background-color: var(--disabled-bg-color);\n",
              "    fill: var(--disabled-fill-color);\n",
              "    box-shadow: none;\n",
              "  }\n",
              "\n",
              "  .colab-df-spinner {\n",
              "    border: 2px solid var(--fill-color);\n",
              "    border-color: transparent;\n",
              "    border-bottom-color: var(--fill-color);\n",
              "    animation:\n",
              "      spin 1s steps(1) infinite;\n",
              "  }\n",
              "\n",
              "  @keyframes spin {\n",
              "    0% {\n",
              "      border-color: transparent;\n",
              "      border-bottom-color: var(--fill-color);\n",
              "      border-left-color: var(--fill-color);\n",
              "    }\n",
              "    20% {\n",
              "      border-color: transparent;\n",
              "      border-left-color: var(--fill-color);\n",
              "      border-top-color: var(--fill-color);\n",
              "    }\n",
              "    30% {\n",
              "      border-color: transparent;\n",
              "      border-left-color: var(--fill-color);\n",
              "      border-top-color: var(--fill-color);\n",
              "      border-right-color: var(--fill-color);\n",
              "    }\n",
              "    40% {\n",
              "      border-color: transparent;\n",
              "      border-right-color: var(--fill-color);\n",
              "      border-top-color: var(--fill-color);\n",
              "    }\n",
              "    60% {\n",
              "      border-color: transparent;\n",
              "      border-right-color: var(--fill-color);\n",
              "    }\n",
              "    80% {\n",
              "      border-color: transparent;\n",
              "      border-right-color: var(--fill-color);\n",
              "      border-bottom-color: var(--fill-color);\n",
              "    }\n",
              "    90% {\n",
              "      border-color: transparent;\n",
              "      border-bottom-color: var(--fill-color);\n",
              "    }\n",
              "  }\n",
              "</style>\n",
              "\n",
              "      <script>\n",
              "        async function quickchart(key) {\n",
              "          const quickchartButtonEl =\n",
              "            document.querySelector('#' + key + ' button');\n",
              "          quickchartButtonEl.disabled = true;  // To prevent multiple clicks.\n",
              "          quickchartButtonEl.classList.add('colab-df-spinner');\n",
              "          try {\n",
              "            const charts = await google.colab.kernel.invokeFunction(\n",
              "                'suggestCharts', [key], {});\n",
              "          } catch (error) {\n",
              "            console.error('Error during call to suggestCharts:', error);\n",
              "          }\n",
              "          quickchartButtonEl.classList.remove('colab-df-spinner');\n",
              "          quickchartButtonEl.classList.add('colab-df-quickchart-complete');\n",
              "        }\n",
              "        (() => {\n",
              "          let quickchartButtonEl =\n",
              "            document.querySelector('#df-11d91ec7-d208-4bfa-9ede-02d0a2adcf34 button');\n",
              "          quickchartButtonEl.style.display =\n",
              "            google.colab.kernel.accessAllowed ? 'block' : 'none';\n",
              "        })();\n",
              "      </script>\n",
              "    </div>\n",
              "    </div>\n",
              "  </div>\n"
            ],
            "application/vnd.google.colaboratory.intrinsic+json": {
              "type": "dataframe",
              "summary": "{\n  \"name\": \"display(train\",\n  \"rows\": 5,\n  \"fields\": [\n    {\n      \"column\": \"id\",\n      \"properties\": {\n        \"dtype\": \"number\",\n        \"std\": 1,\n        \"min\": 0,\n        \"max\": 4,\n        \"num_unique_values\": 5,\n        \"samples\": [\n          1,\n          4,\n          2\n        ],\n        \"semantic_type\": \"\",\n        \"description\": \"\"\n      }\n    },\n    {\n      \"column\": \"Temparature\",\n      \"properties\": {\n        \"dtype\": \"number\",\n        \"std\": 4,\n        \"min\": 27,\n        \"max\": 37,\n        \"num_unique_values\": 4,\n        \"samples\": [\n          27,\n          35,\n          37\n        ],\n        \"semantic_type\": \"\",\n        \"description\": \"\"\n      }\n    },\n    {\n      \"column\": \"Humidity\",\n      \"properties\": {\n        \"dtype\": \"number\",\n        \"std\": 5,\n        \"min\": 58,\n        \"max\": 70,\n        \"num_unique_values\": 5,\n        \"samples\": [\n          69,\n          58,\n          63\n        ],\n        \"semantic_type\": \"\",\n        \"description\": \"\"\n      }\n    },\n    {\n      \"column\": \"Moisture\",\n      \"properties\": {\n        \"dtype\": \"number\",\n        \"std\": 13,\n        \"min\": 32,\n        \"max\": 65,\n        \"num_unique_values\": 5,\n        \"samples\": [\n          65,\n          43,\n          32\n        ],\n        \"semantic_type\": \"\",\n        \"description\": \"\"\n      }\n    },\n    {\n      \"column\": \"Soil Type\",\n      \"properties\": {\n        \"dtype\": \"string\",\n        \"num_unique_values\": 3,\n        \"samples\": [\n          \"Clayey\",\n          \"Sandy\",\n          \"Red\"\n        ],\n        \"semantic_type\": \"\",\n        \"description\": \"\"\n      }\n    },\n    {\n      \"column\": \"Crop Type\",\n      \"properties\": {\n        \"dtype\": \"string\",\n        \"num_unique_values\": 4,\n        \"samples\": [\n          \"Millets\",\n          \"Paddy\",\n          \"Sugarcane\"\n        ],\n        \"semantic_type\": \"\",\n        \"description\": \"\"\n      }\n    },\n    {\n      \"column\": \"Nitrogen\",\n      \"properties\": {\n        \"dtype\": \"number\",\n        \"std\": 6,\n        \"min\": 24,\n        \"max\": 39,\n        \"num_unique_values\": 5,\n        \"samples\": [\n          30,\n          37,\n          24\n        ],\n        \"semantic_type\": \"\",\n        \"description\": \"\"\n      }\n    },\n    {\n      \"column\": \"Potassium\",\n      \"properties\": {\n        \"dtype\": \"number\",\n        \"std\": 4,\n        \"min\": 2,\n        \"max\": 12,\n        \"num_unique_values\": 4,\n        \"samples\": [\n          6,\n          2,\n          4\n        ],\n        \"semantic_type\": \"\",\n        \"description\": \"\"\n      }\n    },\n    {\n      \"column\": \"Phosphorous\",\n      \"properties\": {\n        \"dtype\": \"number\",\n        \"std\": 6,\n        \"min\": 4,\n        \"max\": 18,\n        \"num_unique_values\": 4,\n        \"samples\": [\n          18,\n          4,\n          5\n        ],\n        \"semantic_type\": \"\",\n        \"description\": \"\"\n      }\n    },\n    {\n      \"column\": \"Fertilizer Name\",\n      \"properties\": {\n        \"dtype\": \"string\",\n        \"num_unique_values\": 4,\n        \"samples\": [\n          \"17-17-17\",\n          \"DAP\",\n          \"28-28\"\n        ],\n        \"semantic_type\": \"\",\n        \"description\": \"\"\n      }\n    }\n  ]\n}"
            }
          },
          "metadata": {}
        }
      ]
    },
    {
      "cell_type": "markdown",
      "source": [
        "Целевая переменная Fertilizer Name отделяем её от основного дата сета"
      ],
      "metadata": {
        "id": "g1GWPAByZM9J"
      }
    },
    {
      "cell_type": "code",
      "source": [
        "X_train = train.drop('Fertilizer Name', axis=1)\n",
        "y_train = train['Fertilizer Name']\n",
        "\n",
        "X_test = test.drop('Fertilizer Name', axis=1)\n",
        "y_test = test['Fertilizer Name']"
      ],
      "metadata": {
        "id": "fDMOym6eZLpC"
      },
      "execution_count": 5,
      "outputs": []
    },
    {
      "cell_type": "markdown",
      "source": [
        "Целевая переменная Fertilizer Name\n",
        "\n",
        "Из EDA анализа мы знаем, что в данных нет пропусков и дисбаланса классов, это хорошо потому что некоторые модели не смогли бы с ними работать, но с какими проблемами мы можем столкнуться помимо.\n",
        "\n",
        "У нас есть в данных два категорияльных признака Soil Type и Crop Type их нужно закодировать, как мы это сделаем?\n",
        "Применим класичесний OneHotEncoder он конечно увеличит размерность но это не проблема"
      ],
      "metadata": {
        "id": "87PnlowpXe7q"
      }
    },
    {
      "cell_type": "code",
      "source": [
        "from sklearn.preprocessing import OneHotEncoder\n",
        "cat_cols = ['Soil Type', 'Crop Type']\n",
        "encoder = OneHotEncoder(handle_unknown='ignore')\n",
        "X_train_encoded = encoder.fit_transform(X_train[cat_cols]).toarray()\n",
        "feature_names = encoder.get_feature_names_out(cat_cols)\n",
        "X_test_encoded = encoder.transform(X_test[cat_cols]).toarray()\n"
      ],
      "metadata": {
        "id": "-EMe2m35hbO1"
      },
      "execution_count": 6,
      "outputs": []
    },
    {
      "cell_type": "markdown",
      "source": [
        "Следующая проблема из-за того, что мы работаем с разными чистловыми метриками и у нас в моделях есть KNN нужно нормализовать данные, а это и для других моделей может быть полезно"
      ],
      "metadata": {
        "id": "W1hYKCDdaFu-"
      }
    },
    {
      "cell_type": "code",
      "source": [
        "from sklearn.preprocessing import StandardScaler\n",
        "num_cols = ['Temparature', 'Humidity', 'Moisture', 'Nitrogen', 'Potassium', 'Phosphorous']\n",
        "scaler = StandardScaler()\n",
        "X_train_scaled = scaler.fit_transform(X_train[num_cols])\n",
        "X_test_scaled = scaler.transform(X_test[num_cols])"
      ],
      "metadata": {
        "id": "4HDsVmmKiZ8m"
      },
      "execution_count": 7,
      "outputs": []
    },
    {
      "cell_type": "code",
      "source": [
        "import numpy as np\n",
        "X_train_processed = np.hstack([X_train_scaled, X_train_encoded])\n",
        "X_test_processed = np.hstack([X_test_scaled, X_test_encoded])\n",
        "print(\"Посмотрим насколько изменилась размерность\", X_train_processed.shape)\n",
        "print(\"Посмотрим насколько изменилась размерность:\", X_test_processed.shape)"
      ],
      "metadata": {
        "colab": {
          "base_uri": "https://localhost:8080/"
        },
        "id": "kR8Ym_R2igEJ",
        "outputId": "6321cbd3-6af7-4823-8cea-755115a3d8be"
      },
      "execution_count": 8,
      "outputs": [
        {
          "output_type": "stream",
          "name": "stdout",
          "text": [
            "Посмотрим насколько изменилась размерность (433377, 22)\n",
            "Посмотрим насколько изменилась размерность: (108345, 22)\n"
          ]
        }
      ]
    },
    {
      "cell_type": "markdown",
      "source": [
        "Мы провели полную поготовку данных и она будет использоваться во всех последующих моделях, больше останавливаться на ней не будем"
      ],
      "metadata": {
        "id": "OJd0PwTgbqGY"
      }
    },
    {
      "cell_type": "markdown",
      "source": [
        "Перейдём к самой модели"
      ],
      "metadata": {
        "id": "hYinU5MWcLe9"
      }
    },
    {
      "cell_type": "code",
      "source": [
        "results={}\n",
        "print(\"Обучение Logistic Regression...\")\n",
        "start_time = time.time()\n",
        "lr = LogisticRegression(max_iter=1000, random_state=42)\n",
        "lr.fit(X_train_processed, y_train)\n",
        "y_pred = lr.predict(X_test_processed)\n",
        "results[\"Logistic Regression\"] = {\n",
        "    'Accuracy': accuracy_score(y_test, y_pred),\n",
        "    'F1 Score': f1_score(y_test, y_pred, average='weighted')\n",
        "}\n",
        "print(f\"Завершено за {time.time() - start_time:.2f} сек. F1: {results['Logistic Regression']['F1 Score']:.4f}\")"
      ],
      "metadata": {
        "id": "i0zOUaKTxuO4",
        "colab": {
          "base_uri": "https://localhost:8080/"
        },
        "outputId": "0f1e3ac4-df1f-4609-f75c-3e783f2a70d8"
      },
      "execution_count": 9,
      "outputs": [
        {
          "output_type": "stream",
          "name": "stdout",
          "text": [
            "Обучение Logistic Regression...\n",
            "Завершено за 5.47 сек. F1: 0.1402\n"
          ]
        }
      ]
    },
    {
      "cell_type": "markdown",
      "source": [
        "Как мы видим точность модели оставвляет желать лучшего, возможно это из-за не оптимальных гиперпараметров попробуем улучшить модель за счёт них. Применим кросс валидацию а то есть GridSearchCV, так же мы будем делать и в последующих моделях\n",
        "Но для начала разберёмся за что отвечает каждый гипер параметр\n",
        "\n",
        "с-Сила \"штрафа\"\n",
        "\n",
        "penalty-Тип \"штрафа\" за сложность\n",
        "\n",
        "max_iter-Максимум попыток расчета\n",
        "\n",
        "class_weight-Баланс классов:"
      ],
      "metadata": {
        "id": "A3i4E6SKelBq"
      }
    },
    {
      "cell_type": "code",
      "source": [
        "from sklearn.model_selection import GridSearchCV\n",
        "import time\n",
        "\n",
        "\n",
        "grid_search = GridSearchCV(\n",
        "    estimator=LogisticRegression(solver='lbfgs', random_state=42),\n",
        "    param_grid={\n",
        "        'C': [0.01, 0.1, 1, 10],\n",
        "        'penalty': ['l2'],\n",
        "        'max_iter': [500, 1000],\n",
        "        'class_weight': [None, 'balanced']\n",
        "    },\n",
        "    scoring='f1_weighted',\n",
        "    cv=5,\n",
        "    n_jobs=-1,\n",
        "    verbose=1\n",
        ")\n",
        "\n",
        "\n",
        "print(\"Начало обучения GridSearchCV...\")\n",
        "start_time = time.time()\n",
        "grid_search.fit(X_train_processed, y_train)\n",
        "print(f\"Обучение завершено за {time.time() - start_time:.2f} сек\")\n",
        "\n",
        "\n",
        "best_lr = grid_search.best_estimator_\n",
        "\n",
        "y_pred = best_lr.predict(X_test_processed)\n",
        "results[\"Optimized Logistic Regression\"] = {\n",
        "    'Accuracy': accuracy_score(y_test, y_pred),\n",
        "    'F1 Score': f1_score(y_test, y_pred, average='weighted')\n",
        "}\n",
        "\n",
        "print(f\"Лучшие параметры: {grid_search.best_params_}\")\n",
        "print(f\"F1 Score: {results['Optimized Logistic Regression']['F1 Score']:.4f}\")"
      ],
      "metadata": {
        "colab": {
          "base_uri": "https://localhost:8080/"
        },
        "id": "QSxxiQWOfev1",
        "outputId": "d961b469-c8d6-4b93-fb09-b3df552aa53d"
      },
      "execution_count": 10,
      "outputs": [
        {
          "output_type": "stream",
          "name": "stdout",
          "text": [
            "Начало обучения GridSearchCV...\n",
            "Fitting 5 folds for each of 16 candidates, totalling 80 fits\n",
            "Обучение завершено за 55.56 сек\n",
            "Лучшие параметры: {'C': 0.01, 'class_weight': 'balanced', 'max_iter': 500, 'penalty': 'l2'}\n",
            "F1 Score: 0.1485\n"
          ]
        }
      ]
    },
    {
      "cell_type": "markdown",
      "source": [
        "Давайе посмотри другие метрики в модели"
      ],
      "metadata": {
        "id": "0aL6WgXAn45b"
      }
    },
    {
      "cell_type": "code",
      "source": [
        "from sklearn.metrics import precision_score, recall_score\n",
        "\n",
        "best_lr = grid_search.best_estimator_\n",
        "\n",
        "y_pred = best_lr.predict(X_test_processed)\n",
        "\n",
        "accuracy = accuracy_score(y_test, y_pred)\n",
        "f1 = f1_score(y_test, y_pred, average='weighted')\n",
        "precision = precision_score(y_test, y_pred, average='weighted')\n",
        "recall = recall_score(y_test, y_pred, average='weighted')\n",
        "\n",
        "results[\"Logistic Regression (optimized)\"] = {\n",
        "    'Accuracy': accuracy,\n",
        "    'Precision': precision,\n",
        "    'Recall': recall\n",
        "}\n",
        "\n",
        "print(f\"Лучшие параметры: {grid_search.best_params_}\")\n",
        "print(\"Оптимизированная модель метрики:\")\n",
        "print(f\"  → Accuracy: {accuracy:.4f}\")\n",
        "print(f\"  → Precision: {precision:.4f}\")\n",
        "print(f\"  → Recall: {recall:.4f}\")"
      ],
      "metadata": {
        "colab": {
          "base_uri": "https://localhost:8080/"
        },
        "id": "SN5a5vYroCcL",
        "outputId": "77daa984-cdd4-4a68-e1a9-88a87f8cdeea"
      },
      "execution_count": 12,
      "outputs": [
        {
          "output_type": "stream",
          "name": "stdout",
          "text": [
            "Лучшие параметры: {'C': 0.01, 'class_weight': 'balanced', 'max_iter': 500, 'penalty': 'l2'}\n",
            "Оптимизированная модель метрики:\n",
            "  → Accuracy: 0.1540\n",
            "  → Precision: 0.1593\n",
            "  → Recall: 0.1540\n"
          ]
        }
      ]
    },
    {
      "cell_type": "markdown",
      "source": [
        "Как мы видим даже с оптимальными параметрами данная модель выдаёт очень посредственный результат, значит она не подходит для решения данной задачи"
      ],
      "metadata": {
        "id": "K32KW7qMmYbt"
      }
    }
  ]
}