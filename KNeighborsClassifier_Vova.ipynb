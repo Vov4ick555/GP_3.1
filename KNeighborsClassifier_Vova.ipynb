{
  "nbformat": 4,
  "nbformat_minor": 0,
  "metadata": {
    "colab": {
      "provenance": []
    },
    "kernelspec": {
      "name": "python3",
      "display_name": "Python 3"
    },
    "language_info": {
      "name": "python"
    }
  },
  "cells": [
    {
      "cell_type": "markdown",
      "source": [
        "Второй для анализа я выбрал базовую модель knn, как она работает ищет"
      ],
      "metadata": {
        "id": "t00zK6QD8w6h"
      }
    },
    {
      "cell_type": "code",
      "source": [
        "from sklearn.neighbors import KNeighborsClassifier\n",
        "from sklearn.preprocessing import OneHotEncoder, StandardScaler\n",
        "from sklearn.compose import ColumnTransformer\n",
        "from sklearn.pipeline import Pipeline\n",
        "from sklearn.model_selection import train_test_split, GridSearchCV\n",
        "from sklearn.metrics import accuracy_score, f1_score, precision_score, recall_score, classification_report, confusion_matrix\n",
        "import matplotlib.pyplot as plt\n",
        "import seaborn as sns\n",
        "import numpy as np\n",
        "import pandas as pd\n",
        "import warnings\n",
        "from sklearn.metrics import accuracy_score, f1_score\n",
        "import time\n",
        "warnings.filterwarnings('ignore')\n",
        "import pandas as pd\n",
        "from sklearn.model_selection import train_test_split\n",
        "\n",
        "train = pd.read_csv('train.csv')\n",
        "split_idx = int(0.8 * len(train))\n",
        "test = train.iloc[split_idx:]\n",
        "train = train.iloc[:split_idx]\n",
        "\n",
        "X_train = train.drop('Fertilizer Name', axis=1)\n",
        "y_train = train['Fertilizer Name']\n",
        "\n",
        "X_test = test.drop('Fertilizer Name', axis=1)\n",
        "y_test = test['Fertilizer Name']\n",
        "\n",
        "\n",
        "from sklearn.preprocessing import OneHotEncoder\n",
        "cat_cols = ['Soil Type', 'Crop Type']\n",
        "encoder = OneHotEncoder(handle_unknown='ignore')\n",
        "X_train_encoded = encoder.fit_transform(X_train[cat_cols]).toarray()\n",
        "feature_names = encoder.get_feature_names_out(cat_cols)\n",
        "X_test_encoded = encoder.transform(X_test[cat_cols]).toarray()\n",
        "\n",
        "from sklearn.preprocessing import StandardScaler\n",
        "num_cols = ['Temparature', 'Humidity', 'Moisture', 'Nitrogen', 'Potassium', 'Phosphorous']\n",
        "scaler = StandardScaler()\n",
        "X_train_scaled = scaler.fit_transform(X_train[num_cols])\n",
        "X_test_scaled = scaler.transform(X_test[num_cols])\n",
        "\n",
        "X_train_processed = np.hstack([X_train_scaled, X_train_encoded])\n",
        "X_test_processed = np.hstack([X_test_scaled, X_test_encoded])\n",
        "\n",
        "results = {}"
      ],
      "metadata": {
        "id": "meNYe2CK81Xy"
      },
      "execution_count": 12,
      "outputs": []
    },
    {
      "cell_type": "code",
      "source": [
        "print(\"NaN в X_train_processed:\", np.isnan(X_train_processed).sum())\n",
        "print(\"NaN в X_test_processed:\", np.isnan(X_test_processed).sum())"
      ],
      "metadata": {
        "colab": {
          "base_uri": "https://localhost:8080/"
        },
        "id": "2y_k1PaqBP3g",
        "outputId": "b505e766-b70e-418c-f6c9-c4e8a2a6ce73"
      },
      "execution_count": 3,
      "outputs": [
        {
          "output_type": "stream",
          "name": "stdout",
          "text": [
            "NaN в X_train_processed: 0\n",
            "NaN в X_test_processed: 0\n"
          ]
        }
      ]
    },
    {
      "cell_type": "markdown",
      "source": [
        "Перейдём к модели"
      ],
      "metadata": {
        "id": "ZdxgyQtO9LvD"
      }
    },
    {
      "cell_type": "code",
      "source": [
        "start_time = time.time()\n",
        "knn = KNeighborsClassifier()\n",
        "knn.fit(X_train_processed, y_train)\n",
        "y_pred = knn.predict(X_test_processed)\n",
        "results[\"KNN\"] = {\n",
        "    'Accuracy': accuracy_score(y_test, y_pred),\n",
        "    'F1 Score': f1_score(y_test, y_pred, average='weighted')\n",
        "}\n",
        "print(f\"Завершено за {time.time() - start_time:.2f} сек. F1: {results['KNN']['F1 Score']:.4f}\")"
      ],
      "metadata": {
        "colab": {
          "base_uri": "https://localhost:8080/"
        },
        "id": "CITVuG4b9SKH",
        "outputId": "799c5d0c-6b55-4c5e-cc5b-0a906637bfb3"
      },
      "execution_count": 6,
      "outputs": [
        {
          "output_type": "stream",
          "name": "stdout",
          "text": [
            "Завершено за 534.32 сек. F1: 0.1455\n"
          ]
        }
      ]
    },
    {
      "cell_type": "markdown",
      "source": [
        "Подберём оптимальные параметры, как мы это можем сделать, при условии, что модель обучается долго и у нас ограниченные ресурсы в первую очередь можно свести сетку параметров к миниму, во вторую настроить дропы используем RandomizedSearchCV, потому что он быстрее и его можно настроить.\n",
        "Давайте отдельно расморим параметры которые мы выбираем, и параметры настройки RandomizedSearchCV и снизить параметры крос валидации потому что мы знаем что данные сбалансированы и нет выбросов\n",
        "\n",
        "1)\n",
        "weights - функция откоторой зависит с каким весом мы возьмём ближайшего соседа и т. д.\n",
        "\n",
        "n_neighbors-количество соседей которых мы расматриваем при переборе\n",
        "\n",
        "p-функция по которой мы считаем растояние до ближайшего соседа\n",
        "\n",
        "2) n_iter количество случайных комбинаций парамеров для перебор\n",
        "\n",
        "cv- насколько частей мы делим данные при крос валидации\n",
        "\n",
        "n_jobs-упраляет ядрами процесора\n",
        "\n",
        "refit после нахождения модели решет что мы с ней делаем(значени true-Автоматически обучает лучшую модель на ВСЕХ тренировочных данных)\n",
        "    \n",
        "verbose-управляет подробностью вывода на консоль"
      ],
      "metadata": {
        "id": "SX0zDZwn9Tq2"
      }
    },
    {
      "cell_type": "code",
      "source": [
        "from sklearn.neighbors import KNeighborsClassifier\n",
        "from sklearn.model_selection import RandomizedSearchCV\n",
        "import numpy as np\n",
        "import time\n",
        "\n",
        "param_dist = {\n",
        "    'n_neighbors': np.arange(3, 51, 2),\n",
        "    'weights': ['uniform', 'distance'],\n",
        "    'p': [1, 2]\n",
        "}\n",
        "\n",
        "knn_search = RandomizedSearchCV(\n",
        "    KNeighborsClassifier(),\n",
        "    param_dist,\n",
        "    n_iter=10,\n",
        "    cv=2,\n",
        "    n_jobs=-1,\n",
        "    refit=True,\n",
        "    verbose=1,\n",
        "    random_state=42\n",
        ")\n",
        "\n",
        "\n",
        "start_time = time.time()\n",
        "knn_search.fit(X_train_processed, y_train)\n",
        "search_time = time.time() - start_time\n",
        "\n",
        "best_knn = knn_search.best_estimator_\n",
        "y_pred = best_knn.predict(X_test_processed)\n",
        "\n",
        "results = {\n",
        "    'best_params': knn_search.best_params_,\n",
        "    'time_sec': search_time,\n",
        "    'test_metrics': {\n",
        "        'Accuracy': accuracy_score(y_test, y_pred),\n",
        "        'Precision': precision_score(y_test, y_pred, average='weighted', zero_division=0),\n",
        "        'Recall': recall_score(y_test, y_pred, average='weighted'),\n",
        "        'F1': f1_score(y_test, y_pred, average='weighted')\n",
        "    }\n",
        "}\n",
        "\n",
        "print(f\"Поиск завершен за {search_time:.2f} сек\")\n",
        "print(f\"Лучшие параметры: {results['best_params']}\")\n",
        "print(\"Тестовые метрики:\")\n",
        "for metric, value in results['test_metrics'].items():\n",
        "    print(f\"{metric}: {value:.4f}\")"
      ],
      "metadata": {
        "colab": {
          "base_uri": "https://localhost:8080/"
        },
        "id": "yoEflHGL9Z7m",
        "outputId": "d5855a27-a6a1-4704-9d8a-8694b18d600d"
      },
      "execution_count": null,
      "outputs": [
        {
          "output_type": "stream",
          "name": "stdout",
          "text": [
            "Fitting 2 folds for each of 10 candidates, totalling 20 fits\n"
          ]
        }
      ]
    }
  ]
}