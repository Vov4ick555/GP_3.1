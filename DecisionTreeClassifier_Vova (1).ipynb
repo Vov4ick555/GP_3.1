{
  "nbformat": 4,
  "nbformat_minor": 0,
  "metadata": {
    "colab": {
      "provenance": []
    },
    "kernelspec": {
      "name": "python3",
      "display_name": "Python 3"
    },
    "language_info": {
      "name": "python"
    }
  },
  "cells": [
    {
      "cell_type": "markdown",
      "source": [
        "Третью моделью стало дерево решений я подумал вдруг есть особенные признаки, которые хорошо разделят данные, как оно работает:\n",
        "алгоритм перебирает все возможные признаки и все возможные способы разделить данные по этому признаку.\n",
        "Цель: Найти такой признак и такое правило разделения, которое максимально \"очистит\" получившиеся группы. То есть, в идеале, после разделения в каждой группе должны остаться классы в основном одного типа."
      ],
      "metadata": {
        "id": "z7-y8Uo6dbpZ"
      }
    },
    {
      "cell_type": "code",
      "execution_count": 3,
      "metadata": {
        "id": "sxB1HAWzSHBX"
      },
      "outputs": [],
      "source": [
        "from sklearn.tree import DecisionTreeClassifier\n",
        "from sklearn.preprocessing import OneHotEncoder, StandardScaler\n",
        "from sklearn.compose import ColumnTransformer\n",
        "from sklearn.pipeline import Pipeline\n",
        "from sklearn.model_selection import train_test_split, GridSearchCV\n",
        "from sklearn.metrics import accuracy_score, f1_score, precision_score, recall_score, classification_report, confusion_matrix\n",
        "import matplotlib.pyplot as plt\n",
        "import seaborn as sns\n",
        "import numpy as np\n",
        "import pandas as pd\n",
        "import warnings\n",
        "from sklearn.metrics import accuracy_score, f1_score\n",
        "import time\n",
        "warnings.filterwarnings('ignore')\n",
        "import pandas as pd\n",
        "from sklearn.model_selection import train_test_split\n",
        "\n",
        "train = pd.read_csv('train.csv')\n",
        "split_idx = int(0.8 * len(train))\n",
        "test = train.iloc[split_idx:]\n",
        "train = train.iloc[:split_idx]\n",
        "\n",
        "X_train = train.drop('Fertilizer Name', axis=1)\n",
        "y_train = train['Fertilizer Name']\n",
        "\n",
        "X_test = test.drop('Fertilizer Name', axis=1)\n",
        "y_test = test['Fertilizer Name']\n",
        "\n",
        "\n",
        "from sklearn.preprocessing import OneHotEncoder\n",
        "cat_cols = ['Soil Type', 'Crop Type']\n",
        "encoder = OneHotEncoder(handle_unknown='ignore')\n",
        "X_train_encoded = encoder.fit_transform(X_train[cat_cols]).toarray()\n",
        "feature_names = encoder.get_feature_names_out(cat_cols)\n",
        "X_test_encoded = encoder.transform(X_test[cat_cols]).toarray()\n",
        "\n",
        "from sklearn.preprocessing import StandardScaler\n",
        "num_cols = ['Temparature', 'Humidity', 'Moisture', 'Nitrogen', 'Potassium', 'Phosphorous']\n",
        "scaler = StandardScaler()\n",
        "X_train_scaled = scaler.fit_transform(X_train[num_cols])\n",
        "X_test_scaled = scaler.transform(X_test[num_cols])\n",
        "\n",
        "X_train_processed = np.hstack([X_train_scaled, X_train_encoded])\n",
        "X_test_processed = np.hstack([X_test_scaled, X_test_encoded])\n",
        "\n",
        "results = {}"
      ]
    },
    {
      "cell_type": "code",
      "source": [
        "print(\"\\nОбучение Decision Tree...\")\n",
        "start_time = time.time()\n",
        "dt = DecisionTreeClassifier(max_depth=5, random_state=42)\n",
        "dt.fit(X_train_processed, y_train)\n",
        "y_pred = dt.predict(X_test_processed)\n",
        "results[\"Decision Tree\"] = {\n",
        "    'Accuracy': accuracy_score(y_test, y_pred),\n",
        "    'F1 Score': f1_score(y_test, y_pred, average='weighted')\n",
        "}\n",
        "print(f\"Завершено за {time.time() - start_time:.2f} сек. F1: {results['Decision Tree']['F1 Score']:.4f}\")"
      ],
      "metadata": {
        "colab": {
          "base_uri": "https://localhost:8080/"
        },
        "id": "lTirPs5kZm6X",
        "outputId": "89bb7d1c-b2c1-445e-819e-c3012cd1e741"
      },
      "execution_count": 4,
      "outputs": [
        {
          "output_type": "stream",
          "name": "stdout",
          "text": [
            "\n",
            "Обучение Decision Tree...\n",
            "Завершено за 8.74 сек. F1: 0.1074\n"
          ]
        }
      ]
    },
    {
      "cell_type": "markdown",
      "source": [
        "Что-то вообще грустно, но попробуем подобрать гипер парамеры при условии что модель обучилась быстро сделаем это перебором\n",
        "\n",
        "как всегда давайте посмотрим за что отвечает каждый параметр модели\n",
        "max_depth - макс глубина Насколько длинными могут быть цепочки вопросов\n",
        "\n",
        "min_samples_split - Сколько примеров нужно в узле, чтобы его можно было разделить\n",
        "\n",
        "min_samples_leaf  - Сколько примеров должно быть в конечном пункте\n",
        "\n",
        "criterion - Как измерять качество разделения данных"
      ],
      "metadata": {
        "id": "N0l1zdbEfw2T"
      }
    },
    {
      "cell_type": "code",
      "source": [
        "from sklearn.model_selection import GridSearchCV\n",
        "from sklearn.metrics import accuracy_score, precision_score, recall_score, f1_score\n",
        "import time\n",
        "\n",
        "param_grid = {\n",
        "    'max_depth': [3, 5, 7, None],\n",
        "    'min_samples_split': [2, 5, 10],\n",
        "    'min_samples_leaf': [1, 2, 4],\n",
        "    'criterion': ['gini', 'entropy']\n",
        "}\n",
        "\n",
        "print(\"\\nПодбор гиперпараметров для Decision Tree...\")\n",
        "start_time = time.time()\n",
        "dt_search = GridSearchCV(\n",
        "    DecisionTreeClassifier(random_state=42),\n",
        "    param_grid,\n",
        "    cv=3,\n",
        "    scoring='f1_weighted',\n",
        "    n_jobs=-1\n",
        ")\n",
        "dt_search.fit(X_train_processed, y_train)\n",
        "best_dt = dt_search.best_estimator_\n",
        "y_pred = best_dt.predict(X_test_processed)\n",
        "\n",
        "results[\"Decision Tree (optimized)\"] = {\n",
        "    'Accuracy': accuracy_score(y_test, y_pred),\n",
        "    'Precision': precision_score(y_test, y_pred, average='weighted'),\n",
        "    'Recall': recall_score(y_test, y_pred, average='weighted'),\n",
        "    'F1 Score': f1_score(y_test, y_pred, average='weighted')\n",
        "}\n",
        "\n",
        "print(f\"Лучшие параметры: {dt_search.best_params_}\")\n",
        "print(f\"Завершено за {time.time() - start_time:.2f} сек.\")\n",
        "print(f\"Accuracy: {results['Decision Tree (optimized)']['Accuracy']:.4f}\")\n",
        "print(f\"Precision: {results['Decision Tree (optimized)']['Precision']:.4f}\")\n",
        "print(f\"Recall: {results['Decision Tree (optimized)']['Recall']:.4f}\")\n",
        "print(f\"F1: {results['Decision Tree (optimized)']['F1 Score']:.4f}\")"
      ],
      "metadata": {
        "colab": {
          "base_uri": "https://localhost:8080/"
        },
        "id": "J0RSeuG1gwtR",
        "outputId": "08e5333f-594f-48dc-bfd9-707794d38c23"
      },
      "execution_count": 8,
      "outputs": [
        {
          "output_type": "stream",
          "name": "stdout",
          "text": [
            "\n",
            "Подбор гиперпараметров для Decision Tree...\n",
            "Лучшие параметры: {'criterion': 'gini', 'max_depth': None, 'min_samples_leaf': 2, 'min_samples_split': 10}\n",
            "Завершено за 935.85 сек.\n",
            "Accuracy: 0.1541\n",
            "Precision: 0.1528\n",
            "Recall: 0.1541\n",
            "F1: 0.1526\n"
          ]
        }
      ]
    }
  ]
}